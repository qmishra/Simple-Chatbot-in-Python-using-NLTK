{
  "nbformat": 4,
  "nbformat_minor": 0,
  "metadata": {
    "colab": {
      "name": "Chatbot_from-Scratch-Dave-Mishra.ipynb",
      "provenance": [],
      "include_colab_link": true
    },
    "kernelspec": {
      "display_name": "Python 3",
      "language": "python",
      "name": "python3"
    },
    "language_info": {
      "codemirror_mode": {
        "name": "ipython",
        "version": 3
      },
      "file_extension": ".py",
      "mimetype": "text/x-python",
      "name": "python",
      "nbconvert_exporter": "python",
      "pygments_lexer": "ipython3",
      "version": "3.8.3"
    }
  },
  "cells": [
    {
      "cell_type": "markdown",
      "metadata": {
        "id": "view-in-github",
        "colab_type": "text"
      },
      "source": [
        "<a href=\"https://colab.research.google.com/github/qmishra/Simple-Chatbot-in-Python-using-NLTK/blob/main/Chatbot_from_Scratch_Dave_Mishra.ipynb\" target=\"_parent\"><img src=\"https://colab.research.google.com/assets/colab-badge.svg\" alt=\"Open In Colab\"/></a>"
      ]
    },
    {
      "cell_type": "code",
      "metadata": {
        "colab": {
          "background_save": true,
          "base_uri": "https://localhost:8080/"
        },
        "id": "BjiFmQf-ubEk",
        "scrolled": true,
        "outputId": "8cea4889-fce1-4f35-8c13-47cb5f2458ab"
      },
      "source": [
        "pip install nltk"
      ],
      "execution_count": null,
      "outputs": [
        {
          "output_type": "stream",
          "text": [
            "Requirement already satisfied: nltk in /usr/local/lib/python3.7/dist-packages (3.2.5)\n",
            "Requirement already satisfied: six in /usr/local/lib/python3.7/dist-packages (from nltk) (1.15.0)\n"
          ],
          "name": "stdout"
        }
      ]
    },
    {
      "cell_type": "code",
      "metadata": {
        "id": "ybnBrY7LubEp",
        "scrolled": true
      },
      "source": [
        "from nltk.chat.util import Chat,reflections\n",
        "pairs=[\n",
        "    [\"(Hello Joe Ferrucci|Hi Joe)\",[\"Hello, tell me your name?\"]],\n",
        "    [\"your name\",[\"My name is Sriram Rakshith Kolar\"]],\n",
        "    ['my name is(.*)',[\"hi %1\"]],\n",
        "    [\"(how are you|how r u|how are you feeling)\",[\"I am doing well, Thank you\"]],\n",
        "    [\"(Are you a Robot?)\",[\"Yes, I am an Artificial Intelligence digital assistant named Xinchen Yi.\"]],\n",
        "    [\"(Teach me something|Are you a teacher?|teacher)\",[\"Yes, I can teach you anything, just ask\",\"I can teach you about Python\",\"I can teach you Jupyter Notebooks\"]],\n",
        "    [\"(salesforce|crm|CRM)\",[\"I am better than Salesforce\",\"crm means Customer Relationship Management\",\"CRM means Customer Relationship Management\"]],\n",
        "    [\"(goodbye|bye|see you later)\",[\"Goodbye\",\"Bye\",\"Bye %1\"]],\n",
        "    [\"(Do you know Python?|Do you like Python?|Python smart?)\",[\"I can teach you Python\",\"I use Python 3.0\",\"Jupyter Notebooks is the best way to use Python\"]]\n",
        "]\n",
        "\n",
        "chat=Chat(pairs,reflections)\n",
        "chat.converse()\n"
      ],
      "execution_count": null,
      "outputs": []
    }
  ]
}